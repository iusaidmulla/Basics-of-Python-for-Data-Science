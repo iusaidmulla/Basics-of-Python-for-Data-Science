{
 "cells": [
  {
   "cell_type": "code",
   "execution_count": 1,
   "id": "1e2c64ce",
   "metadata": {},
   "outputs": [],
   "source": [
    "import pandas as pd\n",
    "import numpy as np"
   ]
  },
  {
   "cell_type": "code",
   "execution_count": 2,
   "id": "f7bc0f14",
   "metadata": {},
   "outputs": [
    {
     "data": {
      "text/plain": [
       "{'FY2022': [Timestamp('2021-04-01 00:00:00'),\n",
       "  Timestamp('2022-04-01 00:00:00')]}"
      ]
     },
     "execution_count": 2,
     "metadata": {},
     "output_type": "execute_result"
    }
   ],
   "source": [
    "year = 2022\n",
    "\n",
    "date_cut = {}\n",
    "\n",
    "date_cut['FY'+str(year)] = [pd.Timestamp(year-1,4,1), pd.Timestamp(year,4,1)]\n",
    "date_cut"
   ]
  },
  {
   "cell_type": "code",
   "execution_count": 3,
   "id": "1ff29c19",
   "metadata": {},
   "outputs": [],
   "source": [
    "FYs = [2014,2015,2016,2017,2018,2019]\n",
    "\n",
    "date_cut = {}\n",
    "\n",
    "for year in FYs:\n",
    "    date_cut['FYs'+str(year)] = [pd.Timestamp(year-1,4,1), pd.Timestamp(year,4,1)]\n",
    "    \n",
    "\n",
    "    "
   ]
  },
  {
   "cell_type": "code",
   "execution_count": 4,
   "id": "53f6103e",
   "metadata": {},
   "outputs": [
    {
     "data": {
      "text/plain": [
       "{'FYs2014': [Timestamp('2013-04-01 00:00:00'),\n",
       "  Timestamp('2014-04-01 00:00:00')],\n",
       " 'FYs2015': [Timestamp('2014-04-01 00:00:00'),\n",
       "  Timestamp('2015-04-01 00:00:00')],\n",
       " 'FYs2016': [Timestamp('2015-04-01 00:00:00'),\n",
       "  Timestamp('2016-04-01 00:00:00')],\n",
       " 'FYs2017': [Timestamp('2016-04-01 00:00:00'),\n",
       "  Timestamp('2017-04-01 00:00:00')],\n",
       " 'FYs2018': [Timestamp('2017-04-01 00:00:00'),\n",
       "  Timestamp('2018-04-01 00:00:00')],\n",
       " 'FYs2019': [Timestamp('2018-04-01 00:00:00'),\n",
       "  Timestamp('2019-04-01 00:00:00')]}"
      ]
     },
     "execution_count": 4,
     "metadata": {},
     "output_type": "execute_result"
    }
   ],
   "source": [
    "date_cut"
   ]
  },
  {
   "cell_type": "code",
   "execution_count": 5,
   "id": "1dd0a2e0",
   "metadata": {},
   "outputs": [],
   "source": [
    "# HY1 = 2022\n",
    "# HY2 = 2022\n",
    "\n",
    "# date_cut = {}\n",
    "# date_cut['HY1'+str(HY1), 'HY2'+str(HY2)] = [pd.Timestamp(HY1-1,4,1), ]\n",
    "\n",
    "FYs = [2014,2015,2016,2017,2018,2019,2020,2021,2022]\n",
    "\n",
    "date_cut = {}\n",
    "\n",
    "for year in FYs:\n",
    "    #print(year)\n",
    "    date_cut['FY'+str(year)] = [pd.Timestamp(year-1,4,1), pd.Timestamp(year, 4,1)]\n",
    "    date_cut['HY_1'+str(year)] = [pd.Timestamp(year-1,4,1), pd.Timestamp(year-1, 10,1)]\n",
    "    date_cut['HY_2'+str(year)] = [pd.Timestamp(year-1,10,1), pd.Timestamp(year, 4,1)]\n",
    "    \n",
    "    date_cut['Q1'+str(year)] = [pd.Timestamp(year-1,4,1), pd.Timestamp(year-1, 7,1)]\n",
    "    date_cut['Q2'+str(year)] = [pd.Timestamp(year-1,7,1), pd.Timestamp(year-1, 10,1)]\n",
    "    date_cut['Q3'+str(year)] = [pd.Timestamp(year-1,10,1), pd.Timestamp(year, 1,1)]\n",
    "    date_cut['Q4'+str(year)] = [pd.Timestamp(year,1,1), pd.Timestamp(year, 4,1)]"
   ]
  },
  {
   "cell_type": "code",
   "execution_count": 6,
   "id": "7b2e0ae4",
   "metadata": {},
   "outputs": [
    {
     "name": "stdout",
     "output_type": "stream",
     "text": [
      "Date cut FY2014 start 2013-04-01 00:00:00 end end\n",
      "Date cut HY_12014 start 2013-04-01 00:00:00 end end\n",
      "Date cut HY_22014 start 2013-10-01 00:00:00 end end\n",
      "Date cut Q12014 start 2013-04-01 00:00:00 end end\n",
      "Date cut Q22014 start 2013-07-01 00:00:00 end end\n",
      "Date cut Q32014 start 2013-10-01 00:00:00 end end\n",
      "Date cut Q42014 start 2014-01-01 00:00:00 end end\n",
      "Date cut FY2015 start 2014-04-01 00:00:00 end end\n",
      "Date cut HY_12015 start 2014-04-01 00:00:00 end end\n",
      "Date cut HY_22015 start 2014-10-01 00:00:00 end end\n",
      "Date cut Q12015 start 2014-04-01 00:00:00 end end\n",
      "Date cut Q22015 start 2014-07-01 00:00:00 end end\n",
      "Date cut Q32015 start 2014-10-01 00:00:00 end end\n",
      "Date cut Q42015 start 2015-01-01 00:00:00 end end\n",
      "Date cut FY2016 start 2015-04-01 00:00:00 end end\n",
      "Date cut HY_12016 start 2015-04-01 00:00:00 end end\n",
      "Date cut HY_22016 start 2015-10-01 00:00:00 end end\n",
      "Date cut Q12016 start 2015-04-01 00:00:00 end end\n",
      "Date cut Q22016 start 2015-07-01 00:00:00 end end\n",
      "Date cut Q32016 start 2015-10-01 00:00:00 end end\n",
      "Date cut Q42016 start 2016-01-01 00:00:00 end end\n",
      "Date cut FY2017 start 2016-04-01 00:00:00 end end\n",
      "Date cut HY_12017 start 2016-04-01 00:00:00 end end\n",
      "Date cut HY_22017 start 2016-10-01 00:00:00 end end\n",
      "Date cut Q12017 start 2016-04-01 00:00:00 end end\n",
      "Date cut Q22017 start 2016-07-01 00:00:00 end end\n",
      "Date cut Q32017 start 2016-10-01 00:00:00 end end\n",
      "Date cut Q42017 start 2017-01-01 00:00:00 end end\n",
      "Date cut FY2018 start 2017-04-01 00:00:00 end end\n",
      "Date cut HY_12018 start 2017-04-01 00:00:00 end end\n",
      "Date cut HY_22018 start 2017-10-01 00:00:00 end end\n",
      "Date cut Q12018 start 2017-04-01 00:00:00 end end\n",
      "Date cut Q22018 start 2017-07-01 00:00:00 end end\n",
      "Date cut Q32018 start 2017-10-01 00:00:00 end end\n",
      "Date cut Q42018 start 2018-01-01 00:00:00 end end\n",
      "Date cut FY2019 start 2018-04-01 00:00:00 end end\n",
      "Date cut HY_12019 start 2018-04-01 00:00:00 end end\n",
      "Date cut HY_22019 start 2018-10-01 00:00:00 end end\n",
      "Date cut Q12019 start 2018-04-01 00:00:00 end end\n",
      "Date cut Q22019 start 2018-07-01 00:00:00 end end\n",
      "Date cut Q32019 start 2018-10-01 00:00:00 end end\n",
      "Date cut Q42019 start 2019-01-01 00:00:00 end end\n",
      "Date cut FY2020 start 2019-04-01 00:00:00 end end\n",
      "Date cut HY_12020 start 2019-04-01 00:00:00 end end\n",
      "Date cut HY_22020 start 2019-10-01 00:00:00 end end\n",
      "Date cut Q12020 start 2019-04-01 00:00:00 end end\n",
      "Date cut Q22020 start 2019-07-01 00:00:00 end end\n",
      "Date cut Q32020 start 2019-10-01 00:00:00 end end\n",
      "Date cut Q42020 start 2020-01-01 00:00:00 end end\n",
      "Date cut FY2021 start 2020-04-01 00:00:00 end end\n",
      "Date cut HY_12021 start 2020-04-01 00:00:00 end end\n",
      "Date cut HY_22021 start 2020-10-01 00:00:00 end end\n",
      "Date cut Q12021 start 2020-04-01 00:00:00 end end\n",
      "Date cut Q22021 start 2020-07-01 00:00:00 end end\n",
      "Date cut Q32021 start 2020-10-01 00:00:00 end end\n",
      "Date cut Q42021 start 2021-01-01 00:00:00 end end\n",
      "Date cut FY2022 start 2021-04-01 00:00:00 end end\n",
      "Date cut HY_12022 start 2021-04-01 00:00:00 end end\n",
      "Date cut HY_22022 start 2021-10-01 00:00:00 end end\n",
      "Date cut Q12022 start 2021-04-01 00:00:00 end end\n",
      "Date cut Q22022 start 2021-07-01 00:00:00 end end\n",
      "Date cut Q32022 start 2021-10-01 00:00:00 end end\n",
      "Date cut Q42022 start 2022-01-01 00:00:00 end end\n"
     ]
    }
   ],
   "source": [
    "for i in date_cut.keys():\n",
    "    #print(i)\n",
    "    \n",
    "    cut = i\n",
    "    start = date_cut[i][0]\n",
    "    end = date_cut[i][1]\n",
    "    \n",
    "    print('Date cut',cut,'start', start, 'end', 'end')\n",
    "    #df_raw = df_raw[(df_raw['Test_date']>=start) &  (df_raw['Test_date']>=start)]"
   ]
  },
  {
   "cell_type": "code",
   "execution_count": null,
   "id": "8baeead7",
   "metadata": {},
   "outputs": [],
   "source": []
  }
 ],
 "metadata": {
  "kernelspec": {
   "display_name": "Python 3 (ipykernel)",
   "language": "python",
   "name": "python3"
  },
  "language_info": {
   "codemirror_mode": {
    "name": "ipython",
    "version": 3
   },
   "file_extension": ".py",
   "mimetype": "text/x-python",
   "name": "python",
   "nbconvert_exporter": "python",
   "pygments_lexer": "ipython3",
   "version": "3.9.7"
  }
 },
 "nbformat": 4,
 "nbformat_minor": 5
}
