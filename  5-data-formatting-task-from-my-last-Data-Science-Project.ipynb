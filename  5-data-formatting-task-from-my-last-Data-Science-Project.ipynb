{
 "cells": [
  {
   "cell_type": "code",
   "execution_count": 1,
   "metadata": {},
   "outputs": [],
   "source": [
    "import pandas as pd \n",
    "import numpy as np"
   ]
  },
  {
   "cell_type": "code",
   "execution_count": 2,
   "metadata": {},
   "outputs": [
    {
     "data": {
      "text/plain": [
       "['Premier League', 'Serie A', 'La Liga']"
      ]
     },
     "execution_count": 2,
     "metadata": {},
     "output_type": "execute_result"
    }
   ],
   "source": [
    "path = 'Football_Data.xlsx'\n",
    "sheetnames = pd.ExcelFile(path).sheet_names\n",
    "sheetnames"
   ]
  },
  {
   "cell_type": "code",
   "execution_count": 28,
   "metadata": {},
   "outputs": [
    {
     "data": {
      "text/html": [
       "<div>\n",
       "<style scoped>\n",
       "    .dataframe tbody tr th:only-of-type {\n",
       "        vertical-align: middle;\n",
       "    }\n",
       "\n",
       "    .dataframe tbody tr th {\n",
       "        vertical-align: top;\n",
       "    }\n",
       "\n",
       "    .dataframe thead th {\n",
       "        text-align: right;\n",
       "    }\n",
       "</style>\n",
       "<table border=\"1\" class=\"dataframe\">\n",
       "  <thead>\n",
       "    <tr style=\"text-align: right;\">\n",
       "      <th></th>\n",
       "      <th>Player</th>\n",
       "      <th>Club</th>\n",
       "      <th>Goals</th>\n",
       "      <th>Matches Played</th>\n",
       "      <th>Type</th>\n",
       "    </tr>\n",
       "  </thead>\n",
       "  <tbody>\n",
       "    <tr>\n",
       "      <th>0</th>\n",
       "      <td>Jamie Vardy</td>\n",
       "      <td>Leicester City</td>\n",
       "      <td>15</td>\n",
       "      <td>29</td>\n",
       "      <td>Premier League</td>\n",
       "    </tr>\n",
       "    <tr>\n",
       "      <th>1</th>\n",
       "      <td>Harry Kane</td>\n",
       "      <td>Tottenhem Hotspur</td>\n",
       "      <td>23</td>\n",
       "      <td>31</td>\n",
       "      <td>Premier League</td>\n",
       "    </tr>\n",
       "    <tr>\n",
       "      <th>2</th>\n",
       "      <td>Mohammad Salah</td>\n",
       "      <td>Liverpool</td>\n",
       "      <td>22</td>\n",
       "      <td>33</td>\n",
       "      <td>Premier League</td>\n",
       "    </tr>\n",
       "    <tr>\n",
       "      <th>3</th>\n",
       "      <td>Zlatan Imbrahimovich</td>\n",
       "      <td>AC Milan</td>\n",
       "      <td>15</td>\n",
       "      <td>18</td>\n",
       "      <td>Serie A</td>\n",
       "    </tr>\n",
       "    <tr>\n",
       "      <th>4</th>\n",
       "      <td>Romelu Lukaku</td>\n",
       "      <td>Inter Milan</td>\n",
       "      <td>24</td>\n",
       "      <td>32</td>\n",
       "      <td>Serie A</td>\n",
       "    </tr>\n",
       "    <tr>\n",
       "      <th>5</th>\n",
       "      <td>Cristiano Ronaldo</td>\n",
       "      <td>Juventus</td>\n",
       "      <td>29</td>\n",
       "      <td>31</td>\n",
       "      <td>Serie A</td>\n",
       "    </tr>\n",
       "    <tr>\n",
       "      <th>6</th>\n",
       "      <td>Lionel Messi</td>\n",
       "      <td>Barcelona</td>\n",
       "      <td>30</td>\n",
       "      <td>33</td>\n",
       "      <td>La Liga</td>\n",
       "    </tr>\n",
       "    <tr>\n",
       "      <th>7</th>\n",
       "      <td>Karim Benzema</td>\n",
       "      <td>Real Madrid</td>\n",
       "      <td>22</td>\n",
       "      <td>33</td>\n",
       "      <td>La Liga</td>\n",
       "    </tr>\n",
       "    <tr>\n",
       "      <th>8</th>\n",
       "      <td>Luis Suarez</td>\n",
       "      <td>Atletico Madrid</td>\n",
       "      <td>21</td>\n",
       "      <td>30</td>\n",
       "      <td>La Liga</td>\n",
       "    </tr>\n",
       "  </tbody>\n",
       "</table>\n",
       "</div>"
      ],
      "text/plain": [
       "                 Player               Club  Goals  Matches Played  \\\n",
       "0           Jamie Vardy     Leicester City     15              29   \n",
       "1            Harry Kane  Tottenhem Hotspur     23              31   \n",
       "2        Mohammad Salah          Liverpool     22              33   \n",
       "3  Zlatan Imbrahimovich           AC Milan     15              18   \n",
       "4         Romelu Lukaku        Inter Milan     24              32   \n",
       "5     Cristiano Ronaldo           Juventus     29              31   \n",
       "6          Lionel Messi          Barcelona     30              33   \n",
       "7         Karim Benzema        Real Madrid     22              33   \n",
       "8           Luis Suarez    Atletico Madrid     21              30   \n",
       "\n",
       "             Type  \n",
       "0  Premier League  \n",
       "1  Premier League  \n",
       "2  Premier League  \n",
       "3         Serie A  \n",
       "4         Serie A  \n",
       "5         Serie A  \n",
       "6         La Liga  \n",
       "7         La Liga  \n",
       "8         La Liga  "
      ]
     },
     "execution_count": 28,
     "metadata": {},
     "output_type": "execute_result"
    }
   ],
   "source": [
    "df = pd.DataFrame()\n",
    "for name in sheetnames:\n",
    "    df1 = pd.read_excel('Football_Data.xlsx',sheet_name= name)\n",
    "    df1['Type'] = name\n",
    "    df = pd.concat([df,df1])\n",
    "df.reset_index(drop=True)"
   ]
  },
  {
   "cell_type": "code",
   "execution_count": null,
   "metadata": {},
   "outputs": [],
   "source": []
  }
 ],
 "metadata": {
  "kernelspec": {
   "display_name": "Python 3",
   "language": "python",
   "name": "python3"
  },
  "language_info": {
   "codemirror_mode": {
    "name": "ipython",
    "version": 3
   },
   "file_extension": ".py",
   "mimetype": "text/x-python",
   "name": "python",
   "nbconvert_exporter": "python",
   "pygments_lexer": "ipython3",
   "version": "3.8.5"
  }
 },
 "nbformat": 4,
 "nbformat_minor": 4
}
