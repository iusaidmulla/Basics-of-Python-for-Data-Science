{
 "cells": [
  {
   "cell_type": "code",
   "execution_count": 1,
   "id": "c1636272",
   "metadata": {},
   "outputs": [],
   "source": [
    "import pandas as pd\n",
    "import numpy as np"
   ]
  },
  {
   "cell_type": "code",
   "execution_count": 2,
   "id": "f72ac2fa",
   "metadata": {},
   "outputs": [
    {
     "data": {
      "text/html": [
       "<div>\n",
       "<style scoped>\n",
       "    .dataframe tbody tr th:only-of-type {\n",
       "        vertical-align: middle;\n",
       "    }\n",
       "\n",
       "    .dataframe tbody tr th {\n",
       "        vertical-align: top;\n",
       "    }\n",
       "\n",
       "    .dataframe thead th {\n",
       "        text-align: right;\n",
       "    }\n",
       "</style>\n",
       "<table border=\"1\" class=\"dataframe\">\n",
       "  <thead>\n",
       "    <tr style=\"text-align: right;\">\n",
       "      <th></th>\n",
       "      <th>names</th>\n",
       "      <th>sentence</th>\n",
       "    </tr>\n",
       "  </thead>\n",
       "  <tbody>\n",
       "    <tr>\n",
       "      <th>0</th>\n",
       "      <td>ABC</td>\n",
       "      <td>How is everyone doing</td>\n",
       "    </tr>\n",
       "    <tr>\n",
       "      <th>1</th>\n",
       "      <td>DEF</td>\n",
       "      <td>I'm doing awesome</td>\n",
       "    </tr>\n",
       "    <tr>\n",
       "      <th>2</th>\n",
       "      <td>GHI</td>\n",
       "      <td>Doing great</td>\n",
       "    </tr>\n",
       "    <tr>\n",
       "      <th>3</th>\n",
       "      <td>ABC</td>\n",
       "      <td>not doing bad at all</td>\n",
       "    </tr>\n",
       "    <tr>\n",
       "      <th>4</th>\n",
       "      <td>PQR</td>\n",
       "      <td>how is the weather there</td>\n",
       "    </tr>\n",
       "  </tbody>\n",
       "</table>\n",
       "</div>"
      ],
      "text/plain": [
       "  names                  sentence\n",
       "0   ABC     How is everyone doing\n",
       "1   DEF         I'm doing awesome\n",
       "2   GHI               Doing great\n",
       "3   ABC      not doing bad at all\n",
       "4   PQR  how is the weather there"
      ]
     },
     "execution_count": 2,
     "metadata": {},
     "output_type": "execute_result"
    }
   ],
   "source": [
    "names = ['ABC','DEF','GHI','ABC','PQR']\n",
    "sentence = [\"How is everyone doing\",\n",
    "           \"I'm doing awesome\",\n",
    "           \"Doing great\",\n",
    "           \"not doing bad at all\",\n",
    "           \"how is the weather there\"]\n",
    "\n",
    "df = pd.DataFrame({'names':names,'sentence':sentence})\n",
    "df"
   ]
  },
  {
   "cell_type": "code",
   "execution_count": 3,
   "id": "ec270bb9",
   "metadata": {},
   "outputs": [],
   "source": [
    "# step 1 - collect all the unique names\n",
    "# step 2 - Loop through all the names\n",
    "# step 3 - Create a transformed data frame for each name\n",
    "# step 4 - do values cou ts(Most frequent word, count), unique(Total words)\n",
    "# step 5 = collect the result of all the names in dictionary"
   ]
  },
  {
   "cell_type": "code",
   "execution_count": 4,
   "id": "bbf1962f",
   "metadata": {},
   "outputs": [],
   "source": [
    "def count_words(name):\n",
    "    \n",
    "    individual_df = df[df[\"names\"]==name]\n",
    "    print(individual_df)\n",
    "    \n",
    "    list_of_words = []\n",
    "    \n",
    "    for i in individual_df.sentence:\n",
    "        print(i.split(\" \"))\n",
    "        #appending the empty list with new words\n",
    "        list_of_words.extend(i.split(\" \"))\n",
    "        print(list_of_words)\n",
    "        \n",
    "        #creating the transformed dataframe\n",
    "        transformed_df = pd.DataFrame()\n",
    "        transformed_df[\"words\"] = list_of_words\n",
    "        transformed_df[\"name\"] = name\n",
    "        \n",
    "        most_frequent_word = transformed_df[\"words\"].value_counts().index[0]\n",
    "        count_most_frequent_word = transformed_df[\"words\"].value_counts().values[0]\n",
    "        total_words = transformed_df[\"words\"].nunique()\n",
    "        \n",
    "        return (most_frequent_word,count_most_frequent_word,total_words)"
   ]
  },
  {
   "cell_type": "code",
   "execution_count": 5,
   "id": "4fe21fa9",
   "metadata": {},
   "outputs": [
    {
     "name": "stdout",
     "output_type": "stream",
     "text": [
      "  names               sentence\n",
      "0   ABC  How is everyone doing\n",
      "3   ABC   not doing bad at all\n",
      "['How', 'is', 'everyone', 'doing']\n",
      "['How', 'is', 'everyone', 'doing']\n",
      "  names           sentence\n",
      "1   DEF  I'm doing awesome\n",
      "[\"I'm\", 'doing', 'awesome']\n",
      "[\"I'm\", 'doing', 'awesome']\n",
      "  names     sentence\n",
      "2   GHI  Doing great\n",
      "['Doing', 'great']\n",
      "['Doing', 'great']\n",
      "  names                  sentence\n",
      "4   PQR  how is the weather there\n",
      "['how', 'is', 'the', 'weather', 'there']\n",
      "['how', 'is', 'the', 'weather', 'there']\n"
     ]
    },
    {
     "data": {
      "text/plain": [
       "{'ABC': ('How', 1, 4),\n",
       " 'DEF': (\"I'm\", 1, 3),\n",
       " 'GHI': ('Doing', 1, 2),\n",
       " 'PQR': ('how', 1, 5)}"
      ]
     },
     "execution_count": 5,
     "metadata": {},
     "output_type": "execute_result"
    }
   ],
   "source": [
    "names = df.names.unique()\n",
    "result_dict = {}\n",
    "for name in names:\n",
    "    (most_frequent_word,count_most_frequent_word,total_words) = count_words(name)\n",
    "    \n",
    "    result_dict[name] = (most_frequent_word,count_most_frequent_word,total_words)\n",
    "    \n",
    "result_dict"
   ]
  },
  {
   "cell_type": "code",
   "execution_count": 6,
   "id": "3161ae9d",
   "metadata": {},
   "outputs": [
    {
     "data": {
      "text/html": [
       "<div>\n",
       "<style scoped>\n",
       "    .dataframe tbody tr th:only-of-type {\n",
       "        vertical-align: middle;\n",
       "    }\n",
       "\n",
       "    .dataframe tbody tr th {\n",
       "        vertical-align: top;\n",
       "    }\n",
       "\n",
       "    .dataframe thead th {\n",
       "        text-align: right;\n",
       "    }\n",
       "</style>\n",
       "<table border=\"1\" class=\"dataframe\">\n",
       "  <thead>\n",
       "    <tr style=\"text-align: right;\">\n",
       "      <th></th>\n",
       "      <th>most_frequent_word</th>\n",
       "      <th>count_most_frequent_word</th>\n",
       "      <th>total_words</th>\n",
       "    </tr>\n",
       "  </thead>\n",
       "  <tbody>\n",
       "    <tr>\n",
       "      <th>ABC</th>\n",
       "      <td>How</td>\n",
       "      <td>1</td>\n",
       "      <td>4</td>\n",
       "    </tr>\n",
       "    <tr>\n",
       "      <th>DEF</th>\n",
       "      <td>I'm</td>\n",
       "      <td>1</td>\n",
       "      <td>3</td>\n",
       "    </tr>\n",
       "    <tr>\n",
       "      <th>GHI</th>\n",
       "      <td>Doing</td>\n",
       "      <td>1</td>\n",
       "      <td>2</td>\n",
       "    </tr>\n",
       "    <tr>\n",
       "      <th>PQR</th>\n",
       "      <td>how</td>\n",
       "      <td>1</td>\n",
       "      <td>5</td>\n",
       "    </tr>\n",
       "  </tbody>\n",
       "</table>\n",
       "</div>"
      ],
      "text/plain": [
       "    most_frequent_word count_most_frequent_word total_words\n",
       "ABC                How                        1           4\n",
       "DEF                I'm                        1           3\n",
       "GHI              Doing                        1           2\n",
       "PQR                how                        1           5"
      ]
     },
     "execution_count": 6,
     "metadata": {},
     "output_type": "execute_result"
    }
   ],
   "source": [
    "final_df = pd.DataFrame(result_dict).T\n",
    "final_df.columns = ['most_frequent_word','count_most_frequent_word','total_words']\n",
    "final_df"
   ]
  },
  {
   "cell_type": "code",
   "execution_count": null,
   "id": "a19bcb3b",
   "metadata": {},
   "outputs": [],
   "source": []
  }
 ],
 "metadata": {
  "kernelspec": {
   "display_name": "Python 3 (ipykernel)",
   "language": "python",
   "name": "python3"
  },
  "language_info": {
   "codemirror_mode": {
    "name": "ipython",
    "version": 3
   },
   "file_extension": ".py",
   "mimetype": "text/x-python",
   "name": "python",
   "nbconvert_exporter": "python",
   "pygments_lexer": "ipython3",
   "version": "3.9.7"
  }
 },
 "nbformat": 4,
 "nbformat_minor": 5
}
